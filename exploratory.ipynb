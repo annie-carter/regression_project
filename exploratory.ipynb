{
 "cells": [
  {
   "cell_type": "markdown",
   "id": "cb421179-c164-4d17-b908-463cb46d2d08",
   "metadata": {},
   "source": [
    "# EXPLORATORY NOTEBOOK"
   ]
  },
  {
   "cell_type": "code",
   "execution_count": 1,
   "id": "7042135e-3ed8-4875-8a02-43bd1da1276c",
   "metadata": {},
   "outputs": [],
   "source": [
    "#python libraries\n",
    "import pandas as pd\n",
    "import numpy as np\n",
    "import os\n",
    "\n",
    "#import visualization libraries\n",
    "import matplotlib.pyplot as plt\n",
    "import seaborn as sns \n",
    "#import \n",
    "from env import hostname, user, password\n",
    "import wrangle as w\n",
    "import explore as e\n",
    "\n",
    "#Import scikit-learn \n",
    "from sklearn.model_selection import train_test_split\n",
    "from sklearn.impute import SimpleImputer\n",
    "from sklearn.preprocessing import MinMaxScaler, StandardScaler, RobustScaler,QuantileTransformer\n",
    "from sklearn.feature_selection import SelectKBest, f_regression, RFE\n",
    "from sklearn.linear_model import LinearRegression\n",
    "from sklearn.metrics import mean_squared_error, r2_score\n",
    "\n",
    "\n",
    "\n",
    "#turn of warnings \n",
    "import warnings\n",
    "warnings.filterwarnings(\"ignore\")"
   ]
  },
  {
   "cell_type": "markdown",
   "id": "17d6bd8f-ef16-4e02-9fd1-d62f2cf56110",
   "metadata": {},
   "source": [
    "## ACQUIRE DATA"
   ]
  },
  {
   "cell_type": "code",
   "execution_count": null,
   "id": "bab7655c-dae2-4859-9e71-5f6252c624d1",
   "metadata": {},
   "outputs": [],
   "source": [
    "#Acquire Zillow_2017 data and query necessary columns\n",
    "df = w.get_zillow_data()\n",
    "df.head()"
   ]
  },
  {
   "cell_type": "code",
   "execution_count": null,
   "id": "2e27e9c3-e369-4de2-a219-cf08fd1978a0",
   "metadata": {},
   "outputs": [],
   "source": [
    "df.info()"
   ]
  },
  {
   "cell_type": "code",
   "execution_count": null,
   "id": "8403d89a-970e-4c0e-ac6b-db8dc1f0baf8",
   "metadata": {},
   "outputs": [],
   "source": [
    "df.shape"
   ]
  },
  {
   "cell_type": "code",
   "execution_count": null,
   "id": "9edacf99-a56c-4d40-80c9-c0dcb54d5352",
   "metadata": {},
   "outputs": [],
   "source": [
    "df.isnull().sum()"
   ]
  },
  {
   "cell_type": "markdown",
   "id": "7c20d2e6-620c-4dc8-889d-b84cf2841148",
   "metadata": {},
   "source": [
    "## PREPARE DATA"
   ]
  },
  {
   "cell_type": "code",
   "execution_count": null,
   "id": "3d26faa3-5cd1-496c-b44b-4d3fb7b0f406",
   "metadata": {},
   "outputs": [],
   "source": [
    "# Prepared data by renamed columns to enhance readability. Dropped null values & duplicates.\n",
    "df = w.prep_zillow(df)\n",
    "df.head()"
   ]
  },
  {
   "cell_type": "code",
   "execution_count": null,
   "id": "488ce5b8-fbfe-49c3-abf9-0088ab70f813",
   "metadata": {},
   "outputs": [],
   "source": [
    "df.info()\n"
   ]
  },
  {
   "cell_type": "code",
   "execution_count": null,
   "id": "1dac59a3-b5f7-4ce5-8a07-cd2c616cb492",
   "metadata": {},
   "outputs": [],
   "source": [
    "df.isnull().sum()"
   ]
  },
  {
   "cell_type": "code",
   "execution_count": null,
   "id": "9e6f17dd-385a-464a-9444-f29cb531bddd",
   "metadata": {},
   "outputs": [],
   "source": [
    "df.info()"
   ]
  },
  {
   "cell_type": "code",
   "execution_count": null,
   "id": "eb29dd5c-62d4-447a-873f-9016420c21c8",
   "metadata": {},
   "outputs": [],
   "source": [
    "df.shape"
   ]
  },
  {
   "cell_type": "code",
   "execution_count": null,
   "id": "fa7d4635-0dfc-43a2-8351-174fa4babd41",
   "metadata": {},
   "outputs": [],
   "source": [
    "df.head()"
   ]
  },
  {
   "cell_type": "code",
   "execution_count": null,
   "id": "1c19a5f5-34f5-4a02-9fd7-bc9e52afbe69",
   "metadata": {},
   "outputs": [],
   "source": [
    "df.bedrooms.value_counts()"
   ]
  },
  {
   "cell_type": "code",
   "execution_count": null,
   "id": "b50fd5c9-b3d2-489e-8487-d3417606f96f",
   "metadata": {},
   "outputs": [],
   "source": [
    "#master clean renames fips to County, removes outliers for bedrooms, bathrooms, and sqft columns & changes data types integers\n",
    "df = w.master_clean_zillow(df)\n",
    "df.head()"
   ]
  },
  {
   "cell_type": "code",
   "execution_count": null,
   "id": "fe085286-54b5-4f9d-878a-a28ffe3e0cda",
   "metadata": {},
   "outputs": [],
   "source": [
    "df.info()"
   ]
  },
  {
   "cell_type": "code",
   "execution_count": null,
   "id": "e0c193fc-c5f3-4a94-95ad-8b1bfe067e53",
   "metadata": {},
   "outputs": [],
   "source": [
    "df.shape"
   ]
  },
  {
   "cell_type": "code",
   "execution_count": null,
   "id": "f6706dd5-f3ca-478c-b1e7-da95bea5bf76",
   "metadata": {},
   "outputs": [],
   "source": [
    "df.bedrooms.value_counts()"
   ]
  },
  {
   "cell_type": "code",
   "execution_count": null,
   "id": "7218ff27-01cf-459b-9623-1e999edb05fc",
   "metadata": {},
   "outputs": [],
   "source": [
    "df.bathrooms.value_counts()"
   ]
  },
  {
   "cell_type": "code",
   "execution_count": null,
   "id": "c780e28b-a6f4-402f-9306-275c0472c5a2",
   "metadata": {},
   "outputs": [],
   "source": [
    "df.lot_size.describe()"
   ]
  },
  {
   "cell_type": "code",
   "execution_count": null,
   "id": "2b1c2d61-9f9d-4265-94df-10b1bf0d1f7e",
   "metadata": {},
   "outputs": [],
   "source": [
    "sns.scatterplot(x= 'lot_size', y=\"tax_value\", data=df, hue = 'county')"
   ]
  },
  {
   "cell_type": "code",
   "execution_count": null,
   "id": "be5f3293-f98a-4b85-a21c-a73d949bd494",
   "metadata": {},
   "outputs": [],
   "source": []
  },
  {
   "cell_type": "code",
   "execution_count": null,
   "id": "4681e5eb-8fb2-4e4b-9e7d-5493c72b85fa",
   "metadata": {},
   "outputs": [],
   "source": [
    "df.sqft.describe()"
   ]
  },
  {
   "cell_type": "markdown",
   "id": "e07f7536-d858-4e7c-b060-3935c278ee4e",
   "metadata": {},
   "source": [
    "#### <span style= 'color:green'> Outliers are sale_tax $40+ and any sqft above 8K"
   ]
  },
  {
   "cell_type": "code",
   "execution_count": null,
   "id": "399e8eb0-faea-4728-a37b-0b3de8fa8b49",
   "metadata": {},
   "outputs": [],
   "source": [
    "sns.scatterplot(x= 'sqft', y=\"tax_value\", data=df, hue = 'county')"
   ]
  },
  {
   "cell_type": "code",
   "execution_count": null,
   "id": "60f490ec-2ee6-4488-a58c-be22cabb77a5",
   "metadata": {},
   "outputs": [],
   "source": [
    "# Clean data devided by original data = percent of original data maintained after preparation and cleaning process \n",
    "50282/52441"
   ]
  },
  {
   "cell_type": "markdown",
   "id": "37bf710e-fb67-4dfd-8689-07957549356e",
   "metadata": {},
   "source": [
    "## SPLIT DATA"
   ]
  },
  {
   "cell_type": "code",
   "execution_count": null,
   "id": "15ee66ca-b6e0-47ce-b6af-3057ff513823",
   "metadata": {},
   "outputs": [],
   "source": [
    "#Data split into train, validate, test\n",
    "train, validate, test = w.split_zillow(df)"
   ]
  },
  {
   "cell_type": "code",
   "execution_count": null,
   "id": "87c7cb6d-fc3a-4dad-8604-c84cc305ae31",
   "metadata": {},
   "outputs": [],
   "source": [
    "train.dtypes"
   ]
  },
  {
   "cell_type": "code",
   "execution_count": null,
   "id": "6ceacc0b-ac27-4f20-ac32-5de4d1f1031e",
   "metadata": {},
   "outputs": [],
   "source": [
    "train.head()"
   ]
  },
  {
   "cell_type": "code",
   "execution_count": null,
   "id": "4b3cb6f0-18a3-47f8-b912-535fbe053eae",
   "metadata": {},
   "outputs": [],
   "source": [
    "# Datasets split into  50%, 30%, and 20% data previously cleaned so no missed values nulls and outliers removed\n",
    "w.print_train(train, validate, test)"
   ]
  },
  {
   "cell_type": "markdown",
   "id": "10887d32-d4a2-4306-83c3-4b2cc642811c",
   "metadata": {},
   "source": [
    "## Exploratory Analysis"
   ]
  },
  {
   "cell_type": "code",
   "execution_count": null,
   "id": "acb09254-ee74-4815-94ab-7b1a838777ea",
   "metadata": {},
   "outputs": [],
   "source": [
    "# Pairplot of features to determine which ones will best represent the data and questions asked?\n",
    "sns.pairplot(train, hue = 'county')\n",
    "plt.title('Pairplot of Zillow features')\n",
    "plt.show()"
   ]
  },
  {
   "cell_type": "code",
   "execution_count": null,
   "id": "3f20213b-6056-4144-bc42-036974c804df",
   "metadata": {},
   "outputs": [],
   "source": [
    "#Visualizing correlation data with Heat Map\n",
    "plt.figure(figsize=(25,20))\n",
    "sns.heatmap(train.corr(), cmap='Blues', center=0, annot=True)\n",
    "\n",
    "plt.show()"
   ]
  },
  {
   "cell_type": "code",
   "execution_count": null,
   "id": "f2ece474-3c2f-4323-b04c-3927a3b3bc9e",
   "metadata": {},
   "outputs": [],
   "source": [
    "#Explore correlation data by churn\n",
    "train_correlation = train.corr()\n",
    "train_correlation"
   ]
  },
  {
   "cell_type": "code",
   "execution_count": null,
   "id": "d05d4c00-72fa-4e70-ae65-a9c43e1dcb1b",
   "metadata": {},
   "outputs": [],
   "source": [
    "#This is a scatter plot that shows How the counties appear on a map using longitude and latitutde lines \n",
    "def california_county(train):\n",
    "    fig, ax = plt.subplots(figsize = (7,5))\n",
    "    sns.scatterplot(data=train,x=train['longitude'],\n",
    "                y=train['latitude'], zorder=1,hue='county')\n",
    "plt.show()"
   ]
  },
  {
   "cell_type": "code",
   "execution_count": null,
   "id": "25af2c2a-80d0-417a-be43-c8d8bb9fc563",
   "metadata": {},
   "outputs": [],
   "source": [
    "california_county(train)"
   ]
  },
  {
   "cell_type": "code",
   "execution_count": null,
   "id": "eecfe821-9d88-4cdc-9add-72c122920f3d",
   "metadata": {},
   "outputs": [],
   "source": [
    "to_scale = ['bedrooms', 'bathrooms', 'sqft', 'lot_size', 'longitude','latitude']"
   ]
  },
  {
   "cell_type": "code",
   "execution_count": null,
   "id": "833cf942-c2ad-4d9e-b89d-def505bb8cdc",
   "metadata": {},
   "outputs": [],
   "source": [
    "def visualize_scaler(scaler, df, features_to_scale, bins=10):\n",
    "    #create subplot structure\n",
    "    fig, axs = plt.subplots(len(features_to_scale), 2, figsize=(12,12))\n",
    "\n",
    "    #copy the df for scaling\n",
    "    df_scaled = df.copy()\n",
    "    \n",
    "    #fit and transform the df\n",
    "    df_scaled[features_to_scale] = scaler.fit_transform(df[features_to_scale])\n",
    "\n",
    "    #plot the pre-scaled data next to the post-scaled data in one row of a subplot\n",
    "    for (ax1, ax2), feature in zip(axs, features_to_scale):\n",
    "        ax1.hist(df[feature], bins=bins)\n",
    "        ax1.set(title=f'{feature} before scaling', xlabel=feature, ylabel='count')\n",
    "        ax2.hist(df_scaled[feature], bins=bins)\n",
    "        ax2.set(title=f'{feature} after scaling with {scaler.feature}', xlabel=feature, ylabel='count')\n",
    "    plt.tight_layout()"
   ]
  },
  {
   "cell_type": "code",
   "execution_count": null,
   "id": "a37091ef-209b-4563-bba9-4572ba913c62",
   "metadata": {},
   "outputs": [],
   "source": [
    "# call function with minmax\n",
    "visualize_scaler(scaler=MinMaxScaler(), \n",
    "                 df=train, \n",
    "                 features_to_scale=to_scale, \n",
    "                 bins=50)"
   ]
  },
  {
   "cell_type": "code",
   "execution_count": null,
   "id": "ca9bb6b7-d1c8-4eb6-923a-21a863e2d21f",
   "metadata": {},
   "outputs": [],
   "source": [
    "# call function with standard scaler\n",
    "visualize_scaler(scaler=StandardScaler(), \n",
    "                 df=train, \n",
    "                 features_to_scale=to_scale, \n",
    "                 bins=50)"
   ]
  },
  {
   "cell_type": "code",
   "execution_count": null,
   "id": "020d26bc-9d8f-4c8b-8f56-c90bbe8ccc48",
   "metadata": {},
   "outputs": [],
   "source": [
    "# call function with robustscaler\n",
    "visualize_scaler(scaler=RobustScaler(), \n",
    "                 df=train, \n",
    "                 features_to_scale=to_scale, \n",
    "                 bins=50)"
   ]
  },
  {
   "cell_type": "code",
   "execution_count": null,
   "id": "e45fc17b-77b7-465a-bbc2-440b454417ca",
   "metadata": {},
   "outputs": [],
   "source": [
    "# call function using QuantileTransformer\n",
    "visualize_scaler(scaler=QuantileTransformer(), \n",
    "                 df=train,\n",
    "                 features_to_scale=to_scale, \n",
    "                 bins=50)"
   ]
  },
  {
   "cell_type": "code",
   "execution_count": null,
   "id": "8b496e07-a07b-4dec-9352-a524adf5662f",
   "metadata": {},
   "outputs": [],
   "source": []
  },
  {
   "cell_type": "code",
   "execution_count": null,
   "id": "21e15360-c09b-4058-b759-793a107b3a54",
   "metadata": {},
   "outputs": [],
   "source": []
  },
  {
   "cell_type": "code",
   "execution_count": null,
   "id": "f3d8abb7-f9e8-4d7c-bcde-6b7d8bfc286f",
   "metadata": {},
   "outputs": [],
   "source": [
    "# train_county = train.county\n",
    "# validate_county = validate.county\n",
    "# test_county = test.county\n"
   ]
  },
  {
   "cell_type": "code",
   "execution_count": null,
   "id": "4d0fec70-1c92-4706-ba91-988d28e04ab2",
   "metadata": {},
   "outputs": [],
   "source": [
    "# train, validate, test = w.scaled_data(train, validate, test)"
   ]
  },
  {
   "cell_type": "code",
   "execution_count": null,
   "id": "9530ed0a-c713-4650-a0b6-f85a8040f339",
   "metadata": {},
   "outputs": [],
   "source": [
    "X_train, y_train, X_validate,y_validate,X_test,y_test = w.x_y_split(train, validate, test)"
   ]
  },
  {
   "cell_type": "code",
   "execution_count": null,
   "id": "f7c76e3c-3946-4616-8435-8ad8bb77f0ad",
   "metadata": {},
   "outputs": [],
   "source": [
    "X_train.head()"
   ]
  },
  {
   "cell_type": "raw",
   "id": "2a1246ab-e50e-48c1-84f6-5c8f30f5d254",
   "metadata": {},
   "source": []
  },
  {
   "cell_type": "code",
   "execution_count": null,
   "id": "97054563-09a0-468f-9d22-3669053c6d46",
   "metadata": {},
   "outputs": [],
   "source": []
  },
  {
   "cell_type": "code",
   "execution_count": null,
   "id": "0cdcf66b-beb1-47ee-84c1-16c9fa08732e",
   "metadata": {},
   "outputs": [],
   "source": []
  },
  {
   "cell_type": "code",
   "execution_count": null,
   "id": "72698990-ad5f-4b8b-ad78-dfffe617b55c",
   "metadata": {},
   "outputs": [],
   "source": []
  },
  {
   "cell_type": "code",
   "execution_count": null,
   "id": "9f3724e6-e0cd-4407-9854-3f666e7aa94a",
   "metadata": {},
   "outputs": [],
   "source": []
  },
  {
   "cell_type": "code",
   "execution_count": null,
   "id": "7012bb50-d5bd-4880-8667-d0131b48a9e1",
   "metadata": {},
   "outputs": [],
   "source": []
  },
  {
   "cell_type": "code",
   "execution_count": null,
   "id": "0d63f362-c8fb-42ab-95b5-3c06ac4fe0b3",
   "metadata": {},
   "outputs": [],
   "source": []
  },
  {
   "cell_type": "code",
   "execution_count": null,
   "id": "e542c34d-96d6-4da7-9eaf-0dc99e847d14",
   "metadata": {},
   "outputs": [],
   "source": []
  },
  {
   "cell_type": "code",
   "execution_count": null,
   "id": "ca7acb19-2d25-47e9-9ba9-0894178d4b82",
   "metadata": {},
   "outputs": [],
   "source": []
  },
  {
   "cell_type": "code",
   "execution_count": null,
   "id": "b5115fc8-346e-421e-af70-9617c60556ec",
   "metadata": {},
   "outputs": [],
   "source": []
  },
  {
   "cell_type": "code",
   "execution_count": null,
   "id": "788c7c17-6949-46e9-9806-65223de76c84",
   "metadata": {},
   "outputs": [],
   "source": []
  },
  {
   "cell_type": "code",
   "execution_count": null,
   "id": "eb8a1495-01d0-42f6-ae1a-af3c443c632b",
   "metadata": {},
   "outputs": [],
   "source": []
  },
  {
   "cell_type": "code",
   "execution_count": null,
   "id": "79b1eb8b-fb9c-4cc1-a62f-4631e73c000b",
   "metadata": {},
   "outputs": [],
   "source": [
    "def plot_variable_pairs():\n",
    "    train_sample = train.sample(n=1000)\n",
    "    features = ['bedrooms', 'bathrooms', 'sqft', 'lot_size', 'longitude','latitude']\n",
    "    for feature in features:\n",
    "        columns = train.select_dtypes('int')\n",
    "    for feature in features:\n",
    "        sns.lmplot(x= feature, y=\"tax_value\", data=train, featue = 'county', hue = 'county', line_kws={'color': 'red'})\n",
    "plot_variable_pairs()"
   ]
  },
  {
   "cell_type": "code",
   "execution_count": null,
   "id": "83184c07-db14-478b-b2e5-b8a97a012392",
   "metadata": {},
   "outputs": [],
   "source": []
  },
  {
   "cell_type": "code",
   "execution_count": null,
   "id": "227d0702-c5c2-4a54-98d0-6b4a580edebe",
   "metadata": {},
   "outputs": [],
   "source": [
    "def plot_categorical_and_continuous_vars():\n",
    "    train_sample = train.sample(n=1000)\n",
    "    features =  train.select_dtypes('int') #['bedrooms', 'bathrooms', 'sqft', 'lot_size', 'longitude','latitude']\n",
    "    for feature in features:\n",
    "        sns.set(rc={'figure.figsize':(20,10)})\n",
    "        fig, axes = plt.subplots(2,2)\n",
    "        sns.boxplot(x= feature, y=\"tax_value\", data=train, hue = 'county')axs[0,0].set_title('boxplot')\n",
    "        sns.barplot(x= feature, y=\"tax_value\", data=train, hue = 'county')axs[0,1].set_title('barplot')\n",
    "        sns.violinplot(x= feature, y=\"tax_value\", data=train, hue = 'county')axs[1,0].set_title('violinplot')\n",
    "        sns.scatterplot(x= feature, y=\"tax_value\", data=train, hue = 'county')axs[1,1].set_title('scatterplot')\n",
    "plot_categorical_and_continuous_vars()\n",
    "\n",
    "# ax = axs[0,0]\n",
    "# , ax = axs[0,1]\n",
    "# , ax = axs[1,0]\n",
    "# , ax = axes[1,1]"
   ]
  },
  {
   "cell_type": "code",
   "execution_count": null,
   "id": "88b285ab-0689-4c30-a2a3-5dfec250e75d",
   "metadata": {},
   "outputs": [],
   "source": [
    "plot_categorical_and_continuous_vars()"
   ]
  },
  {
   "cell_type": "code",
   "execution_count": null,
   "id": "627a9c98-49a3-4ce2-87c9-3faa03d79b01",
   "metadata": {},
   "outputs": [],
   "source": []
  }
 ],
 "metadata": {
  "kernelspec": {
   "display_name": "Python 3 (ipykernel)",
   "language": "python",
   "name": "python3"
  },
  "language_info": {
   "codemirror_mode": {
    "name": "ipython",
    "version": 3
   },
   "file_extension": ".py",
   "mimetype": "text/x-python",
   "name": "python",
   "nbconvert_exporter": "python",
   "pygments_lexer": "ipython3",
   "version": "3.10.9"
  }
 },
 "nbformat": 4,
 "nbformat_minor": 5
}
