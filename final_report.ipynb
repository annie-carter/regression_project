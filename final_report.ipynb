{
 "cells": [
  {
   "cell_type": "markdown",
   "id": "a0cca58c-324c-4ab4-a7b2-e12d7aee2c33",
   "metadata": {},
   "source": [
    "# <center>ZILLOW FINAL REPORT</center> \n",
    "____________________________________________________________"
   ]
  },
  {
   "cell_type": "code",
   "execution_count": 1,
   "id": "381b81d4-f693-4393-b08d-3a7152e2fb3d",
   "metadata": {},
   "outputs": [
    {
     "ename": "NameError",
     "evalue": "name 'train' is not defined",
     "output_type": "error",
     "traceback": [
      "\u001b[0;31m---------------------------------------------------------------------------\u001b[0m",
      "\u001b[0;31mNameError\u001b[0m                                 Traceback (most recent call last)",
      "Cell \u001b[0;32mIn[1], line 13\u001b[0m\n\u001b[1;32m     11\u001b[0m \u001b[38;5;28;01mfrom\u001b[39;00m \u001b[38;5;21;01menv\u001b[39;00m \u001b[38;5;28;01mimport\u001b[39;00m hostname, user, password\n\u001b[1;32m     12\u001b[0m \u001b[38;5;28;01mimport\u001b[39;00m \u001b[38;5;21;01mwrangle\u001b[39;00m \u001b[38;5;28;01mas\u001b[39;00m \u001b[38;5;21;01mw\u001b[39;00m\n\u001b[0;32m---> 13\u001b[0m \u001b[38;5;28;01mimport\u001b[39;00m \u001b[38;5;21;01mexplore\u001b[39;00m \u001b[38;5;28;01mas\u001b[39;00m \u001b[38;5;21;01me\u001b[39;00m\n\u001b[1;32m     15\u001b[0m \u001b[38;5;66;03m# Import scikit-learn for split\u001b[39;00m\n\u001b[1;32m     16\u001b[0m \u001b[38;5;28;01mfrom\u001b[39;00m \u001b[38;5;21;01msklearn\u001b[39;00m\u001b[38;5;21;01m.\u001b[39;00m\u001b[38;5;21;01mmodel_selection\u001b[39;00m \u001b[38;5;28;01mimport\u001b[39;00m train_test_split\n",
      "File \u001b[0;32m~/codeup-data-science/regression_project/explore.py:86\u001b[0m\n\u001b[1;32m     83\u001b[0m         axes[\u001b[38;5;241m1\u001b[39m, \u001b[38;5;241m1\u001b[39m]\u001b[38;5;241m.\u001b[39mset_title(\u001b[38;5;124m'\u001b[39m\u001b[38;5;124mScatterplot\u001b[39m\u001b[38;5;124m'\u001b[39m)\n\u001b[1;32m     85\u001b[0m     plt\u001b[38;5;241m.\u001b[39mtight_layout()\n\u001b[0;32m---> 86\u001b[0m \u001b[43mplot_categorical_and_continuous_vars\u001b[49m\u001b[43m(\u001b[49m\u001b[43m)\u001b[49m\n\u001b[1;32m     90\u001b[0m \u001b[38;5;66;03m#--------- SCALING FUNCTIONS--------\u001b[39;00m\n\u001b[1;32m     91\u001b[0m \u001b[38;5;28;01mdef\u001b[39;00m \u001b[38;5;21mvisualize_scaler\u001b[39m(scaler, df, features_to_scale, bins\u001b[38;5;241m=\u001b[39m\u001b[38;5;241m50\u001b[39m):\n\u001b[1;32m     92\u001b[0m     \u001b[38;5;66;03m# Create subplot structure\u001b[39;00m\n",
      "File \u001b[0;32m~/codeup-data-science/regression_project/explore.py:66\u001b[0m, in \u001b[0;36mplot_categorical_and_continuous_vars\u001b[0;34m()\u001b[0m\n\u001b[1;32m     65\u001b[0m \u001b[38;5;28;01mdef\u001b[39;00m \u001b[38;5;21mplot_categorical_and_continuous_vars\u001b[39m():\n\u001b[0;32m---> 66\u001b[0m     train_sample \u001b[38;5;241m=\u001b[39m \u001b[43mtrain\u001b[49m\u001b[38;5;241m.\u001b[39msample(n\u001b[38;5;241m=\u001b[39m\u001b[38;5;241m3017\u001b[39m)\n\u001b[1;32m     67\u001b[0m     features \u001b[38;5;241m=\u001b[39m [\u001b[38;5;124m'\u001b[39m\u001b[38;5;124mbedrooms\u001b[39m\u001b[38;5;124m'\u001b[39m, \u001b[38;5;124m'\u001b[39m\u001b[38;5;124mbathrooms\u001b[39m\u001b[38;5;124m'\u001b[39m, \u001b[38;5;124m'\u001b[39m\u001b[38;5;124msqft\u001b[39m\u001b[38;5;124m'\u001b[39m, \u001b[38;5;124m'\u001b[39m\u001b[38;5;124mlot_size\u001b[39m\u001b[38;5;124m'\u001b[39m,]\n\u001b[1;32m     69\u001b[0m     \u001b[38;5;28;01mfor\u001b[39;00m feature \u001b[38;5;129;01min\u001b[39;00m features:\n",
      "\u001b[0;31mNameError\u001b[0m: name 'train' is not defined"
     ]
    }
   ],
   "source": [
    "#python libraries\n",
    "import pandas as pd\n",
    "import numpy as np\n",
    "import os\n",
    "\n",
    "#import visualization libraries\n",
    "import matplotlib.pyplot as plt\n",
    "import seaborn as sns \n",
    "\n",
    "# Import homemade files\n",
    "from env import hostname, user, password\n",
    "import wrangle as w\n",
    "import explore as e\n",
    "\n",
    "# Import scikit-learn for split\n",
    "from sklearn.model_selection import train_test_split\n",
    "from sklearn.impute import SimpleImputer\n",
    "\n",
    "# Import for scaling\n",
    "from sklearn.preprocessing import MinMaxScaler, StandardScaler, RobustScaler,QuantileTransformer\n",
    "\n",
    "# Import for feature selection\n",
    "from sklearn.feature_selection import SelectKBest, f_regression, RFE\n",
    "\n",
    "# Import scikit-learn modeling \n",
    "from sklearn.metrics import mean_squared_error, r2_score\n",
    "from sklearn.linear_model import LinearRegression, LassoLars, TweedieRegressor\n",
    "from sklearn.preprocessing import PolynomialFeatures\n",
    "from sklearn.metrics import explained_variance_score\n",
    "\n",
    "#turn of warnings \n",
    "import warnings\n",
    "warnings.filterwarnings(\"ignore\")\n",
    "warnings.filterwarnings(\"ignore\", category=DeprecationWarning)"
   ]
  },
  {
   "cell_type": "markdown",
   "id": "46f47791",
   "metadata": {},
   "source": [
    "## <span style=\"color: green;\">EXECUTIVE SUMMARY</span>\n"
   ]
  },
  {
   "cell_type": "markdown",
   "id": "50680fab",
   "metadata": {},
   "source": [
    "### PROJECT DESCRIPTION\n",
    "This project predicts factors contributing to 2017 property tax assessed values for three California counties ( Orange County, Ventura, Los Angeles). The data collected from this project can help with future planning on ways to decrease property tax and improve loyalty to the Zillow brand."
   ]
  },
  {
   "cell_type": "markdown",
   "id": "a9536aeb",
   "metadata": {},
   "source": [
    "### PROJECT GOALS\n",
    "* This project goal is to develop an ML Regression model to accurately forecast the assessed values of Single Family Properties by leveraging property attributes. \n",
    "* Identify the crucial factors property tax assessed values of single family properties that had a transaction during 2017. \n",
    "* Present findings to lead data scientist and other Zillow stakeholders\n"
   ]
  },
  {
   "cell_type": "markdown",
   "id": "a87f3503",
   "metadata": {},
   "source": [
    "## DATA DICTIONARY\n",
    "| Original Name               |   Target     |       Datatype         |       Definition             |\n",
    "|:---------------------------:|:------------:|:----------------------:|------------------------------|\n",
    "|  taxvaluedollarcnt          |  tax_value   | 50283 non-null: float64|  target variable            \n",
    "\n",
    "|      Original Name          |   Renamed    |       Datatype         |     Definition               |\n",
    "|-----------------------------|--------------|------------------------|------------------------------|\n",
    "|  bedroomcnt                 |  bedrooms    | 50283 non-null: int64  | # of bedrooms                |\n",
    "|  bathroomcnt                |  bathrooms   | 50283 non-null: int64  | # of bathrooms               |\n",
    "|calculatedfinishedsquarefeet |  sqft        | 50283 non-null: int64  | # of square feet             |\n",
    "|  yearbuilt                  |  year_built  | 50283 non-null: object | year house was built)        |\n",
    "|  fips                       |  county      | 50283 non-null: object | County house located         |\n",
    "|  lotsizesquarefeet          |  lot_size    | 50283 non-null: int64  | size of lot                  |\n",
    "|  longitude                  |  longitude   | 50283 non-null: int64  | longitude line house located |\n",
    "|  latitude                   |  latitude    | 50283 non-null: int64  | latitude line house located  |"
   ]
  },
  {
   "cell_type": "markdown",
   "id": "a6a57f68",
   "metadata": {},
   "source": [
    "### INITIAL QUESTIONS\n",
    "1. Does the Lot Size have a significant impact on property tax value?\n",
    "2. Is there a relationship between square feet and property tax value?\n",
    "3. Does number of bedrooms have a relationship to property tax value?\n",
    "4. Does number of bathrooms have a relationship to property tax value?\n"
   ]
  },
  {
   "cell_type": "markdown",
   "id": "0725c947",
   "metadata": {},
   "source": [
    "## <span style=\"color: green;\">AQUISITION AND PREPARATION</span>\n",
    "- Data was acquired from the Codeup, Inc database using Kaggle's 2017 Zillow data.\n",
    "- The dataset initially consisted of 9 columns and 52,441 rows before any cleaning procedures were applied.\n",
    "- Each row in the dataset represents a single-family home property ('261' parcelid).\n",
    "\n",
    "- The data was prepared by performing various steps. Firstly, the columns were renamed to enhance readability. Null values and duplicate rows were dropped. Data types were modified to facilitate exploration and modeling.\n",
    "\n",
    "- The county information, labeled as \"fips,\" was renamed appropriately. \n",
    "\n",
    "- To address skewed data, outliers were removed. For instance, properties with more than 6 bedrooms or bathrooms and prices exceeding 2M were considered outliers. \n",
    "- Resulting in 50,282 rows or %95 of original data used to maintain data integrity\n",
    "- The data was split into training, validation, and testing sets using a 50%, 30%, 20% split, respectively using Random State of 123."
   ]
  },
  {
   "cell_type": "code",
   "execution_count": null,
   "id": "4eadad04",
   "metadata": {},
   "outputs": [],
   "source": [
    "#Data is acquired & preparation with above actions taken and examplw:\n",
    "df = w.final_wrangle()\n",
    "df.head(2)"
   ]
  },
  {
   "cell_type": "code",
   "execution_count": null,
   "id": "0d933770",
   "metadata": {},
   "outputs": [],
   "source": [
    "# data split into train, validate, test with above stated \n",
    "df = w.split_zillow(df)\n",
    "# Datasets split into  50%, 30%, and 20% data previously cleaned so no missed values nulls and outliers removed\n"
   ]
  },
  {
   "cell_type": "code",
   "execution_count": null,
   "id": "7762e7c5",
   "metadata": {},
   "outputs": [],
   "source": []
  },
  {
   "cell_type": "code",
   "execution_count": null,
   "id": "bffff2c9",
   "metadata": {},
   "outputs": [],
   "source": []
  },
  {
   "cell_type": "markdown",
   "id": "17f06961",
   "metadata": {},
   "source": [
    "## <span style=\"color: green;\">EXPLORATORY ANALYSIS</span>"
   ]
  },
  {
   "cell_type": "code",
   "execution_count": null,
   "id": "07562574",
   "metadata": {},
   "outputs": [],
   "source": []
  },
  {
   "cell_type": "code",
   "execution_count": null,
   "id": "74ee6568",
   "metadata": {},
   "outputs": [],
   "source": []
  },
  {
   "cell_type": "code",
   "execution_count": null,
   "id": "63f1dbcf",
   "metadata": {},
   "outputs": [],
   "source": []
  },
  {
   "cell_type": "code",
   "execution_count": null,
   "id": "33b2c852",
   "metadata": {},
   "outputs": [],
   "source": []
  },
  {
   "cell_type": "markdown",
   "id": "4c5058f7",
   "metadata": {},
   "source": [
    "## <span style=\"color: green;\">MODELING</span>"
   ]
  },
  {
   "cell_type": "code",
   "execution_count": null,
   "id": "840f422e",
   "metadata": {},
   "outputs": [],
   "source": []
  },
  {
   "cell_type": "code",
   "execution_count": null,
   "id": "053d690f",
   "metadata": {},
   "outputs": [],
   "source": []
  },
  {
   "cell_type": "code",
   "execution_count": null,
   "id": "261e290d",
   "metadata": {},
   "outputs": [],
   "source": []
  },
  {
   "cell_type": "code",
   "execution_count": null,
   "id": "d4f9bb35",
   "metadata": {},
   "outputs": [],
   "source": []
  },
  {
   "cell_type": "markdown",
   "id": "69725de0",
   "metadata": {},
   "source": [
    "## <span style=\"color: green;\">CONCLUSION</span>"
   ]
  },
  {
   "cell_type": "markdown",
   "id": "7f502b98",
   "metadata": {},
   "source": []
  },
  {
   "cell_type": "markdown",
   "id": "fa0584c6",
   "metadata": {},
   "source": [
    "## <span style=\"color: green;\">NEXT STEPS </span>"
   ]
  },
  {
   "cell_type": "markdown",
   "id": "fd3e1493",
   "metadata": {},
   "source": []
  },
  {
   "cell_type": "markdown",
   "id": "dd7aa987",
   "metadata": {},
   "source": [
    "## <span style=\"color: green;\">RECOMMENDATIONS</span>"
   ]
  },
  {
   "cell_type": "markdown",
   "id": "dbbfdec3",
   "metadata": {},
   "source": []
  }
 ],
 "metadata": {
  "kernelspec": {
   "display_name": "Python 3 (ipykernel)",
   "language": "python",
   "name": "python3"
  },
  "language_info": {
   "codemirror_mode": {
    "name": "ipython",
    "version": 3
   },
   "file_extension": ".py",
   "mimetype": "text/x-python",
   "name": "python",
   "nbconvert_exporter": "python",
   "pygments_lexer": "ipython3",
   "version": "3.10.9"
  }
 },
 "nbformat": 4,
 "nbformat_minor": 5
}
