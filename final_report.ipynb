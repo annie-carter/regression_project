{
 "cells": [
  {
   "cell_type": "markdown",
   "id": "a0cca58c-324c-4ab4-a7b2-e12d7aee2c33",
   "metadata": {},
   "source": [
    "# <center>ZILLOW FINAL REPORT</center> \n",
    "____________________________________________________________"
   ]
  },
  {
   "cell_type": "markdown",
   "id": "46f47791",
   "metadata": {},
   "source": [
    "## <span style=\"color: green;\">EXECUTIVE SUMMARY</span>\n"
   ]
  },
  {
   "cell_type": "markdown",
   "id": "50680fab",
   "metadata": {},
   "source": [
    "### PROJECT DESCRIPTION\n",
    "This project predicts factors contributing to 2017 property tax assessed values for three California counties ( Orange County, Ventura, Los Angeles). The data collected from this project can help with future planning on ways to decrease property tax and improve loyalty to the Zillow brand."
   ]
  },
  {
   "cell_type": "markdown",
   "id": "a9536aeb",
   "metadata": {},
   "source": [
    "### PROJECT GOALS\n",
    "* This project goal is to develop an ML Regression model to accurately forecast the assessed values of Single Family Properties by leveraging property attributes. \n",
    "* Identify the crucial factors property tax assessed values of single family properties that had a transaction during 2017. \n",
    "* Present findings to lead data scientist and other Zillow stakeholders\n"
   ]
  },
  {
   "cell_type": "markdown",
   "id": "a6a57f68",
   "metadata": {},
   "source": [
    "### INITIAL QUESTIONS\n",
    "1. Does the Lot Size have a significant impact on property tax value?\n",
    "2. Is there a relationship between square feet and property tax value?\n",
    "3. Does number of bedrooms have a relationship to property tax value?\n",
    "4. Does number of bathrooms have a relationship to property tax value?\n"
   ]
  },
  {
   "cell_type": "markdown",
   "id": "a87f3503",
   "metadata": {},
   "source": [
    "## DATA DICTIONARY\n",
    "| Original Name               |   Target     |       Datatype         |       Definition             |\n",
    "|:---------------------------:|:------------:|:----------------------:|------------------------------|\n",
    "|  taxvaluedollarcnt          |  tax_value   | 50283 non-null: float64|  target variable            \n",
    "\n",
    "|      Original Name          |   Renamed    |       Datatype         |     Definition               |\n",
    "|-----------------------------|--------------|------------------------|------------------------------|\n",
    "|  bedroomcnt                 |  bedrooms    | 50283 non-null: int64  | # of bedrooms                |\n",
    "|  bathroomcnt                |  bathrooms   | 50283 non-null: int64  | # of bathrooms               |\n",
    "|calculatedfinishedsquarefeet |  sqft        | 50283 non-null: int64  | # of square feet             |\n",
    "|  yearbuilt                  |  year_built  | 50283 non-null: object | year house was built)        |\n",
    "|  fips                       |  county      | 50283 non-null: object | County house located         |\n",
    "|  lotsizesquarefeet          |  lot_size    | 50283 non-null: int64  | size of lot                  |\n",
    "|  longitude                  |  longitude   | 50283 non-null: int64  | longitude line house located |\n",
    "|  latitude                   |  latitude    | 50283 non-null: int64  | latitude line house located  |"
   ]
  },
  {
   "cell_type": "markdown",
   "id": "0725c947",
   "metadata": {},
   "source": [
    "## <span style=\"color: green;\">AQUISITION AND PREPARATION</span>\n",
    "- Data was acquired from the Codeup, Inc database using Kaggle's 2017 Zillow data.\n",
    "- The dataset initially consisted of 9 columns and 52,441 rows before any cleaning procedures were applied.\n",
    "- Each row in the dataset represents a single-family home property ('261' parcelid).\n",
    "\n",
    "- The data was prepared by performing various steps. Firstly, the columns were renamed to enhance readability. Null values and duplicate rows were dropped. Data types were modified to facilitate exploration and modeling.\n",
    "\n",
    "- The county information, labeled as \"fips,\" was renamed appropriately. \n",
    "\n",
    "- To address skewed data, outliers were removed. For instance, properties with more than 6 bedrooms or bathrooms and prices exceeding 2M were considered outliers. \n",
    "- Resulting in 50,282 rows or %95 of original data used to maintain data integrity\n",
    "- The data was split into training, validation, and testing sets using a 50%, 30%, 20% split, respectively using Random State of 123."
   ]
  },
  {
   "cell_type": "code",
   "execution_count": null,
   "id": "381b81d4-f693-4393-b08d-3a7152e2fb3d",
   "metadata": {},
   "outputs": [],
   "source": [
    "#python libraries\n",
    "import pandas as pd\n",
    "import numpy as np\n",
    "import os\n",
    "\n",
    "#import visualization libraries\n",
    "import matplotlib.pyplot as plt\n",
    "import seaborn as sns \n",
    "\n",
    "# Import homemade files\n",
    "from env import hostname, user, password\n",
    "import wrangle as w\n",
    "# import explore as e\n",
    "\n",
    "# Import scikit-learn for split\n",
    "from sklearn.model_selection import train_test_split\n",
    "from sklearn.impute import SimpleImputer\n",
    "\n",
    "# Import for scaling\n",
    "from sklearn.preprocessing import MinMaxScaler, StandardScaler, RobustScaler,QuantileTransformer\n",
    "\n",
    "# Import for feature selection\n",
    "from sklearn.feature_selection import SelectKBest, f_regression, RFE\n",
    "\n",
    "# Import scikit-learn modeling \n",
    "from sklearn.metrics import mean_squared_error, r2_score\n",
    "from sklearn.linear_model import LinearRegression, LassoLars, TweedieRegressor\n",
    "from sklearn.preprocessing import PolynomialFeatures\n",
    "from sklearn.metrics import explained_variance_score\n",
    "\n",
    "#turn of warnings \n",
    "import warnings\n",
    "warnings.filterwarnings(\"ignore\")\n",
    "warnings.filterwarnings(\"ignore\", category=DeprecationWarning)"
   ]
  },
  {
   "cell_type": "code",
   "execution_count": null,
   "id": "4eadad04",
   "metadata": {},
   "outputs": [],
   "source": [
    "df = wrangle.get_zillow_data(df)\n",
    "df.head()"
   ]
  },
  {
   "cell_type": "code",
   "execution_count": null,
   "id": "0d933770",
   "metadata": {},
   "outputs": [],
   "source": []
  },
  {
   "cell_type": "code",
   "execution_count": null,
   "id": "7762e7c5",
   "metadata": {},
   "outputs": [],
   "source": []
  },
  {
   "cell_type": "code",
   "execution_count": null,
   "id": "bffff2c9",
   "metadata": {},
   "outputs": [],
   "source": []
  },
  {
   "cell_type": "markdown",
   "id": "17f06961",
   "metadata": {},
   "source": [
    "## <span style=\"color: green;\">EXPLORATORY ANALYSIS</span>"
   ]
  },
  {
   "cell_type": "code",
   "execution_count": null,
   "id": "07562574",
   "metadata": {},
   "outputs": [],
   "source": []
  },
  {
   "cell_type": "code",
   "execution_count": null,
   "id": "74ee6568",
   "metadata": {},
   "outputs": [],
   "source": []
  },
  {
   "cell_type": "code",
   "execution_count": null,
   "id": "63f1dbcf",
   "metadata": {},
   "outputs": [],
   "source": []
  },
  {
   "cell_type": "code",
   "execution_count": null,
   "id": "33b2c852",
   "metadata": {},
   "outputs": [],
   "source": []
  },
  {
   "cell_type": "markdown",
   "id": "4c5058f7",
   "metadata": {},
   "source": [
    "## <span style=\"color: green;\">MODELING</span>"
   ]
  },
  {
   "cell_type": "code",
   "execution_count": null,
   "id": "840f422e",
   "metadata": {},
   "outputs": [],
   "source": []
  },
  {
   "cell_type": "code",
   "execution_count": null,
   "id": "053d690f",
   "metadata": {},
   "outputs": [],
   "source": []
  },
  {
   "cell_type": "code",
   "execution_count": null,
   "id": "261e290d",
   "metadata": {},
   "outputs": [],
   "source": []
  },
  {
   "cell_type": "code",
   "execution_count": null,
   "id": "d4f9bb35",
   "metadata": {},
   "outputs": [],
   "source": []
  },
  {
   "cell_type": "markdown",
   "id": "69725de0",
   "metadata": {},
   "source": [
    "## <span style=\"color: green;\">CONCLUSION</span>"
   ]
  },
  {
   "cell_type": "markdown",
   "id": "7f502b98",
   "metadata": {},
   "source": []
  },
  {
   "cell_type": "markdown",
   "id": "fa0584c6",
   "metadata": {},
   "source": [
    "## <span style=\"color: green;\">NEXT STEPS </span>"
   ]
  },
  {
   "cell_type": "markdown",
   "id": "fd3e1493",
   "metadata": {},
   "source": []
  },
  {
   "cell_type": "markdown",
   "id": "dd7aa987",
   "metadata": {},
   "source": [
    "## <span style=\"color: green;\">RECOMMENDATIONS</span>"
   ]
  },
  {
   "cell_type": "markdown",
   "id": "dbbfdec3",
   "metadata": {},
   "source": []
  }
 ],
 "metadata": {
  "kernelspec": {
   "display_name": "Python 3 (ipykernel)",
   "language": "python",
   "name": "python3"
  },
  "language_info": {
   "codemirror_mode": {
    "name": "ipython",
    "version": 3
   },
   "file_extension": ".py",
   "mimetype": "text/x-python",
   "name": "python",
   "nbconvert_exporter": "python",
   "pygments_lexer": "ipython3",
   "version": "3.10.9"
  }
 },
 "nbformat": 4,
 "nbformat_minor": 5
}
